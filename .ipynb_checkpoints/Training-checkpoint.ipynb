{
 "cells": [
  {
   "cell_type": "code",
   "execution_count": 1,
   "metadata": {},
   "outputs": [],
   "source": [
    "import pandas as pd\n",
    "import numpy as np\n",
    "import matplotlib.pyplot as plt\n",
    "%matplotlib inline"
   ]
  },
  {
   "cell_type": "code",
   "execution_count": 20,
   "metadata": {},
   "outputs": [],
   "source": [
    "df=pd.read_csv('trainC.csv')"
   ]
  },
  {
   "cell_type": "code",
   "execution_count": 21,
   "metadata": {},
   "outputs": [
    {
     "data": {
      "text/plain": [
       "Index(['Id', 'MSSubClass', 'LotFrontage', 'LotArea', 'OverallQual',\n",
       "       'OverallCond', 'YearBuilt', 'YearRemodAdd', 'MasVnrArea', 'BsmtFinSF1',\n",
       "       ...\n",
       "       '86', '87', '88', '89', '90', '91', '92', '93', '94', '95'],\n",
       "      dtype='object', length=133)"
      ]
     },
     "execution_count": 21,
     "metadata": {},
     "output_type": "execute_result"
    }
   ],
   "source": [
    "df.columns"
   ]
  },
  {
   "cell_type": "code",
   "execution_count": 16,
   "metadata": {},
   "outputs": [
    {
     "data": {
      "text/plain": [
       "<matplotlib.collections.PathCollection at 0x1f436845fd0>"
      ]
     },
     "execution_count": 16,
     "metadata": {},
     "output_type": "execute_result"
    },
    {
     "data": {
      "image/png": "[encoded data removed]",
      "text/plain": [
       "<matplotlib.figure.Figure at 0x1f4367e7c18>"
      ]
     },
     "metadata": {},
     "output_type": "display_data"
    }
   ],
   "source": [
    "plt.scatter(df['MoSold'],df['SalePrice'])"
   ]
  },
  {
   "cell_type": "code",
   "execution_count": 23,
   "metadata": {
    "scrolled": true
   },
   "outputs": [
    {
     "data": {
      "text/plain": [
       "MoSold\n",
       "1      58\n",
       "2      52\n",
       "3     106\n",
       "4     141\n",
       "5     204\n",
       "6     253\n",
       "7     234\n",
       "8     122\n",
       "9      63\n",
       "10     89\n",
       "11     79\n",
       "12     59\n",
       "Name: Id, dtype: int64"
      ]
     },
     "execution_count": 23,
     "metadata": {},
     "output_type": "execute_result"
    }
   ],
   "source": [
    "df.groupby('MoSold')['Id'].count()"
   ]
  },
  {
   "cell_type": "code",
   "execution_count": null,
   "metadata": {},
   "outputs": [],
   "source": []
  },
  {
   "cell_type": "code",
   "execution_count": 24,
   "metadata": {},
   "outputs": [],
   "source": [
    "cor=df.corrwith(df['SalePrice'])"
   ]
  },
  {
   "cell_type": "code",
   "execution_count": 38,
   "metadata": {},
   "outputs": [
    {
     "data": {
      "text/plain": [
       "Id              -0.021917\n",
       "MSSubClass      -0.084284\n",
       "OverallCond     -0.077856\n",
       "BsmtFinSF2      -0.011378\n",
       "LowQualFinSF    -0.025606\n",
       "BsmtHalfBath    -0.016844\n",
       "KitchenAbvGr    -0.135907\n",
       "EnclosedPorch   -0.128578\n",
       "3SsnPorch        0.044584\n",
       "PoolArea         0.092404\n",
       "MiscVal         -0.021190\n",
       "MoSold           0.046432\n",
       "YrSold          -0.028923\n",
       "1               -0.170650\n",
       "5                0.012249\n",
       "6                0.044813\n",
       "7               -0.025304\n",
       "8                0.021680\n",
       "9               -0.137039\n",
       "10               0.047571\n",
       "11              -0.152259\n",
       "12              -0.004037\n",
       "13              -0.025248\n",
       "14               0.008995\n",
       "15              -0.068941\n",
       "16               0.014805\n",
       "17               0.012306\n",
       "18               0.062812\n",
       "19              -0.087137\n",
       "20               0.075213\n",
       "                   ...   \n",
       "66              -0.034327\n",
       "67               0.019287\n",
       "68              -0.022952\n",
       "69               0.015989\n",
       "70               0.012345\n",
       "71              -0.069454\n",
       "72              -0.026239\n",
       "73              -0.066496\n",
       "74              -0.011440\n",
       "75              -0.006268\n",
       "76               0.023597\n",
       "77               0.010254\n",
       "78               0.052392\n",
       "79              -0.034503\n",
       "80               0.013106\n",
       "81              -0.034327\n",
       "82               0.029772\n",
       "83               0.005072\n",
       "84              -0.011102\n",
       "85               0.087476\n",
       "86               0.043075\n",
       "87               0.031420\n",
       "88              -0.003276\n",
       "89              -0.049306\n",
       "90              -0.011577\n",
       "91               0.013516\n",
       "92              -0.012504\n",
       "93               0.048064\n",
       "94               0.037089\n",
       "95              -0.051192\n",
       "Length: 104, dtype: float64"
      ]
     },
     "execution_count": 38,
     "metadata": {},
     "output_type": "execute_result"
    }
   ],
   "source": [
    "cor[cor[cor>=-0.2]<=0.1]"
   ]
  },
  {
   "cell_type": "code",
   "execution_count": null,
   "metadata": {},
   "outputs": [],
   "source": []
  }
 ],
 "metadata": {
  "kernelspec": {
   "display_name": "Python 3",
   "language": "python",
   "name": "python3"
  },
  "language_info": {
   "codemirror_mode": {
    "name": "ipython",
    "version": 3
   },
   "file_extension": ".py",
   "mimetype": "text/x-python",
   "name": "python",
   "nbconvert_exporter": "python",
   "pygments_lexer": "ipython3",
   "version": "3.6.2"
  }
 },
 "nbformat": 4,
 "nbformat_minor": 2
}
